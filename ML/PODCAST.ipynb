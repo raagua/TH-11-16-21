{
 "cells": [
  {
   "cell_type": "markdown",
   "id": "9ec90495",
   "metadata": {},
   "source": [
    "## Initial Data Ingestion & Exploration"
   ]
  },
  {
   "cell_type": "code",
   "execution_count": 107,
   "id": "19911f3f",
   "metadata": {},
   "outputs": [],
   "source": [
    "import pandas as pd\n",
    "import numpy as np\n",
    "import datetime as dt\n",
    "import pickle"
   ]
  },
  {
   "cell_type": "code",
   "execution_count": 2,
   "id": "98310f26",
   "metadata": {},
   "outputs": [],
   "source": [
    "#reading the data from text file\n",
    "data = pd.read_csv('ds_practical.txt', sep=\"|\")\n"
   ]
  },
  {
   "cell_type": "code",
   "execution_count": 3,
   "id": "0e2c6ea6",
   "metadata": {},
   "outputs": [
    {
     "data": {
      "text/html": [
       "<div>\n",
       "<style scoped>\n",
       "    .dataframe tbody tr th:only-of-type {\n",
       "        vertical-align: middle;\n",
       "    }\n",
       "\n",
       "    .dataframe tbody tr th {\n",
       "        vertical-align: top;\n",
       "    }\n",
       "\n",
       "    .dataframe thead th {\n",
       "        text-align: right;\n",
       "    }\n",
       "</style>\n",
       "<table border=\"1\" class=\"dataframe\">\n",
       "  <thead>\n",
       "    <tr style=\"text-align: right;\">\n",
       "      <th></th>\n",
       "      <th>anon_person_id</th>\n",
       "      <th>target</th>\n",
       "      <th>state</th>\n",
       "      <th>presence_of_child_ind</th>\n",
       "      <th>streaming_media_subs</th>\n",
       "      <th>streaming_entertainment_subs</th>\n",
       "      <th>marital_status</th>\n",
       "      <th>gender</th>\n",
       "      <th>income</th>\n",
       "      <th>number_of_news_subs</th>\n",
       "      <th>age</th>\n",
       "    </tr>\n",
       "  </thead>\n",
       "  <tbody>\n",
       "    <tr>\n",
       "      <th>0</th>\n",
       "      <td>1</td>\n",
       "      <td>0</td>\n",
       "      <td>CA</td>\n",
       "      <td>0</td>\n",
       "      <td>N</td>\n",
       "      <td>0</td>\n",
       "      <td>M</td>\n",
       "      <td>Female</td>\n",
       "      <td>$175k-199k</td>\n",
       "      <td>0</td>\n",
       "      <td>43.0</td>\n",
       "    </tr>\n",
       "    <tr>\n",
       "      <th>1</th>\n",
       "      <td>2</td>\n",
       "      <td>0</td>\n",
       "      <td>CA</td>\n",
       "      <td>0</td>\n",
       "      <td>N</td>\n",
       "      <td>0</td>\n",
       "      <td>U</td>\n",
       "      <td>Male</td>\n",
       "      <td>$225k-249k</td>\n",
       "      <td>0</td>\n",
       "      <td>90.0</td>\n",
       "    </tr>\n",
       "    <tr>\n",
       "      <th>2</th>\n",
       "      <td>3</td>\n",
       "      <td>1</td>\n",
       "      <td>CA</td>\n",
       "      <td>0</td>\n",
       "      <td>Y</td>\n",
       "      <td>1</td>\n",
       "      <td>S</td>\n",
       "      <td>Female</td>\n",
       "      <td>$150k-174k</td>\n",
       "      <td>0</td>\n",
       "      <td>46.0</td>\n",
       "    </tr>\n",
       "    <tr>\n",
       "      <th>3</th>\n",
       "      <td>4</td>\n",
       "      <td>0</td>\n",
       "      <td>CA</td>\n",
       "      <td>1</td>\n",
       "      <td>N</td>\n",
       "      <td>0</td>\n",
       "      <td>U</td>\n",
       "      <td>Female</td>\n",
       "      <td>$125k-149k</td>\n",
       "      <td>0</td>\n",
       "      <td>25.0</td>\n",
       "    </tr>\n",
       "    <tr>\n",
       "      <th>4</th>\n",
       "      <td>5</td>\n",
       "      <td>0</td>\n",
       "      <td>CA</td>\n",
       "      <td>0</td>\n",
       "      <td>N</td>\n",
       "      <td>0</td>\n",
       "      <td>U</td>\n",
       "      <td>Female</td>\n",
       "      <td>$175k-199k</td>\n",
       "      <td>0</td>\n",
       "      <td>62.0</td>\n",
       "    </tr>\n",
       "  </tbody>\n",
       "</table>\n",
       "</div>"
      ],
      "text/plain": [
       "   anon_person_id  target state  presence_of_child_ind streaming_media_subs  \\\n",
       "0               1       0    CA                      0                    N   \n",
       "1               2       0    CA                      0                    N   \n",
       "2               3       1    CA                      0                    Y   \n",
       "3               4       0    CA                      1                    N   \n",
       "4               5       0    CA                      0                    N   \n",
       "\n",
       "   streaming_entertainment_subs marital_status  gender      income  \\\n",
       "0                             0              M  Female  $175k-199k   \n",
       "1                             0              U    Male  $225k-249k   \n",
       "2                             1              S  Female  $150k-174k   \n",
       "3                             0              U  Female  $125k-149k   \n",
       "4                             0              U  Female  $175k-199k   \n",
       "\n",
       "   number_of_news_subs   age  \n",
       "0                    0  43.0  \n",
       "1                    0  90.0  \n",
       "2                    0  46.0  \n",
       "3                    0  25.0  \n",
       "4                    0  62.0  "
      ]
     },
     "execution_count": 3,
     "metadata": {},
     "output_type": "execute_result"
    }
   ],
   "source": [
    "data.head()"
   ]
  },
  {
   "cell_type": "code",
   "execution_count": 4,
   "id": "e56a2123",
   "metadata": {},
   "outputs": [
    {
     "name": "stdout",
     "output_type": "stream",
     "text": [
      "<class 'pandas.core.frame.DataFrame'>\n",
      "RangeIndex: 1000000 entries, 0 to 999999\n",
      "Data columns (total 11 columns):\n",
      " #   Column                        Non-Null Count    Dtype  \n",
      "---  ------                        --------------    -----  \n",
      " 0   anon_person_id                1000000 non-null  int64  \n",
      " 1   target                        1000000 non-null  int64  \n",
      " 2   state                         989976 non-null   object \n",
      " 3   presence_of_child_ind         1000000 non-null  int64  \n",
      " 4   streaming_media_subs          1000000 non-null  object \n",
      " 5   streaming_entertainment_subs  1000000 non-null  int64  \n",
      " 6   marital_status                1000000 non-null  object \n",
      " 7   gender                        1000000 non-null  object \n",
      " 8   income                        1000000 non-null  object \n",
      " 9   number_of_news_subs           1000000 non-null  int64  \n",
      " 10  age                           980298 non-null   float64\n",
      "dtypes: float64(1), int64(5), object(5)\n",
      "memory usage: 83.9+ MB\n"
     ]
    }
   ],
   "source": [
    "#Checking for missing values across the variables\n",
    "data.info()\n",
    "\n",
    "# Implies missing values for state and age"
   ]
  },
  {
   "cell_type": "code",
   "execution_count": 5,
   "id": "dc233f17",
   "metadata": {},
   "outputs": [
    {
     "data": {
      "text/html": [
       "<div>\n",
       "<style scoped>\n",
       "    .dataframe tbody tr th:only-of-type {\n",
       "        vertical-align: middle;\n",
       "    }\n",
       "\n",
       "    .dataframe tbody tr th {\n",
       "        vertical-align: top;\n",
       "    }\n",
       "\n",
       "    .dataframe thead th {\n",
       "        text-align: right;\n",
       "    }\n",
       "</style>\n",
       "<table border=\"1\" class=\"dataframe\">\n",
       "  <thead>\n",
       "    <tr style=\"text-align: right;\">\n",
       "      <th></th>\n",
       "      <th>anon_person_id</th>\n",
       "      <th>target</th>\n",
       "      <th>state</th>\n",
       "      <th>presence_of_child_ind</th>\n",
       "      <th>streaming_media_subs</th>\n",
       "      <th>streaming_entertainment_subs</th>\n",
       "      <th>marital_status</th>\n",
       "      <th>gender</th>\n",
       "      <th>income</th>\n",
       "      <th>number_of_news_subs</th>\n",
       "      <th>age</th>\n",
       "    </tr>\n",
       "  </thead>\n",
       "  <tbody>\n",
       "    <tr>\n",
       "      <th>count</th>\n",
       "      <td>1000000.000000</td>\n",
       "      <td>1000000.000000</td>\n",
       "      <td>989976</td>\n",
       "      <td>1000000.000000</td>\n",
       "      <td>1000000</td>\n",
       "      <td>1000000.000000</td>\n",
       "      <td>1000000</td>\n",
       "      <td>1000000</td>\n",
       "      <td>1000000</td>\n",
       "      <td>1000000.000000</td>\n",
       "      <td>980298.000000</td>\n",
       "    </tr>\n",
       "    <tr>\n",
       "      <th>unique</th>\n",
       "      <td>NaN</td>\n",
       "      <td>NaN</td>\n",
       "      <td>3</td>\n",
       "      <td>NaN</td>\n",
       "      <td>2</td>\n",
       "      <td>NaN</td>\n",
       "      <td>3</td>\n",
       "      <td>3</td>\n",
       "      <td>12</td>\n",
       "      <td>NaN</td>\n",
       "      <td>NaN</td>\n",
       "    </tr>\n",
       "    <tr>\n",
       "      <th>top</th>\n",
       "      <td>NaN</td>\n",
       "      <td>NaN</td>\n",
       "      <td>CA</td>\n",
       "      <td>NaN</td>\n",
       "      <td>N</td>\n",
       "      <td>NaN</td>\n",
       "      <td>U</td>\n",
       "      <td>Male</td>\n",
       "      <td>$200k-224k</td>\n",
       "      <td>NaN</td>\n",
       "      <td>NaN</td>\n",
       "    </tr>\n",
       "    <tr>\n",
       "      <th>freq</th>\n",
       "      <td>NaN</td>\n",
       "      <td>NaN</td>\n",
       "      <td>977083</td>\n",
       "      <td>NaN</td>\n",
       "      <td>826310</td>\n",
       "      <td>NaN</td>\n",
       "      <td>659912</td>\n",
       "      <td>574615</td>\n",
       "      <td>230618</td>\n",
       "      <td>NaN</td>\n",
       "      <td>NaN</td>\n",
       "    </tr>\n",
       "    <tr>\n",
       "      <th>mean</th>\n",
       "      <td>499500.750000</td>\n",
       "      <td>0.149743</td>\n",
       "      <td>NaN</td>\n",
       "      <td>0.144680</td>\n",
       "      <td>NaN</td>\n",
       "      <td>0.173690</td>\n",
       "      <td>NaN</td>\n",
       "      <td>NaN</td>\n",
       "      <td>NaN</td>\n",
       "      <td>0.205013</td>\n",
       "      <td>46.851937</td>\n",
       "    </tr>\n",
       "    <tr>\n",
       "      <th>std</th>\n",
       "      <td>288674.846352</td>\n",
       "      <td>0.356820</td>\n",
       "      <td>NaN</td>\n",
       "      <td>0.351778</td>\n",
       "      <td>NaN</td>\n",
       "      <td>0.378843</td>\n",
       "      <td>NaN</td>\n",
       "      <td>NaN</td>\n",
       "      <td>NaN</td>\n",
       "      <td>0.771099</td>\n",
       "      <td>15.018724</td>\n",
       "    </tr>\n",
       "    <tr>\n",
       "      <th>min</th>\n",
       "      <td>1.000000</td>\n",
       "      <td>0.000000</td>\n",
       "      <td>NaN</td>\n",
       "      <td>0.000000</td>\n",
       "      <td>NaN</td>\n",
       "      <td>0.000000</td>\n",
       "      <td>NaN</td>\n",
       "      <td>NaN</td>\n",
       "      <td>NaN</td>\n",
       "      <td>0.000000</td>\n",
       "      <td>19.000000</td>\n",
       "    </tr>\n",
       "    <tr>\n",
       "      <th>25%</th>\n",
       "      <td>249500.750000</td>\n",
       "      <td>0.000000</td>\n",
       "      <td>NaN</td>\n",
       "      <td>0.000000</td>\n",
       "      <td>NaN</td>\n",
       "      <td>0.000000</td>\n",
       "      <td>NaN</td>\n",
       "      <td>NaN</td>\n",
       "      <td>NaN</td>\n",
       "      <td>0.000000</td>\n",
       "      <td>40.000000</td>\n",
       "    </tr>\n",
       "    <tr>\n",
       "      <th>50%</th>\n",
       "      <td>499500.500000</td>\n",
       "      <td>0.000000</td>\n",
       "      <td>NaN</td>\n",
       "      <td>0.000000</td>\n",
       "      <td>NaN</td>\n",
       "      <td>0.000000</td>\n",
       "      <td>NaN</td>\n",
       "      <td>NaN</td>\n",
       "      <td>NaN</td>\n",
       "      <td>0.000000</td>\n",
       "      <td>45.000000</td>\n",
       "    </tr>\n",
       "    <tr>\n",
       "      <th>75%</th>\n",
       "      <td>749500.250000</td>\n",
       "      <td>0.000000</td>\n",
       "      <td>NaN</td>\n",
       "      <td>0.000000</td>\n",
       "      <td>NaN</td>\n",
       "      <td>0.000000</td>\n",
       "      <td>NaN</td>\n",
       "      <td>NaN</td>\n",
       "      <td>NaN</td>\n",
       "      <td>0.000000</td>\n",
       "      <td>51.000000</td>\n",
       "    </tr>\n",
       "    <tr>\n",
       "      <th>max</th>\n",
       "      <td>999500.000000</td>\n",
       "      <td>1.000000</td>\n",
       "      <td>NaN</td>\n",
       "      <td>1.000000</td>\n",
       "      <td>NaN</td>\n",
       "      <td>1.000000</td>\n",
       "      <td>NaN</td>\n",
       "      <td>NaN</td>\n",
       "      <td>NaN</td>\n",
       "      <td>8.000000</td>\n",
       "      <td>99.000000</td>\n",
       "    </tr>\n",
       "  </tbody>\n",
       "</table>\n",
       "</div>"
      ],
      "text/plain": [
       "        anon_person_id          target   state  presence_of_child_ind  \\\n",
       "count   1000000.000000  1000000.000000  989976         1000000.000000   \n",
       "unique             NaN             NaN       3                    NaN   \n",
       "top                NaN             NaN      CA                    NaN   \n",
       "freq               NaN             NaN  977083                    NaN   \n",
       "mean     499500.750000        0.149743     NaN               0.144680   \n",
       "std      288674.846352        0.356820     NaN               0.351778   \n",
       "min           1.000000        0.000000     NaN               0.000000   \n",
       "25%      249500.750000        0.000000     NaN               0.000000   \n",
       "50%      499500.500000        0.000000     NaN               0.000000   \n",
       "75%      749500.250000        0.000000     NaN               0.000000   \n",
       "max      999500.000000        1.000000     NaN               1.000000   \n",
       "\n",
       "       streaming_media_subs  streaming_entertainment_subs marital_status  \\\n",
       "count               1000000                1000000.000000        1000000   \n",
       "unique                    2                           NaN              3   \n",
       "top                       N                           NaN              U   \n",
       "freq                 826310                           NaN         659912   \n",
       "mean                    NaN                      0.173690            NaN   \n",
       "std                     NaN                      0.378843            NaN   \n",
       "min                     NaN                      0.000000            NaN   \n",
       "25%                     NaN                      0.000000            NaN   \n",
       "50%                     NaN                      0.000000            NaN   \n",
       "75%                     NaN                      0.000000            NaN   \n",
       "max                     NaN                      1.000000            NaN   \n",
       "\n",
       "         gender      income  number_of_news_subs            age  \n",
       "count   1000000     1000000       1000000.000000  980298.000000  \n",
       "unique        3          12                  NaN            NaN  \n",
       "top        Male  $200k-224k                  NaN            NaN  \n",
       "freq     574615      230618                  NaN            NaN  \n",
       "mean        NaN         NaN             0.205013      46.851937  \n",
       "std         NaN         NaN             0.771099      15.018724  \n",
       "min         NaN         NaN             0.000000      19.000000  \n",
       "25%         NaN         NaN             0.000000      40.000000  \n",
       "50%         NaN         NaN             0.000000      45.000000  \n",
       "75%         NaN         NaN             0.000000      51.000000  \n",
       "max         NaN         NaN             8.000000      99.000000  "
      ]
     },
     "execution_count": 5,
     "metadata": {},
     "output_type": "execute_result"
    }
   ],
   "source": [
    "#getting the stats across the columns\n",
    "data.describe(include='all')\n"
   ]
  },
  {
   "cell_type": "code",
   "execution_count": 6,
   "id": "faa1ba1a",
   "metadata": {},
   "outputs": [
    {
     "data": {
      "text/plain": [
       "anon_person_id                  999500\n",
       "target                               2\n",
       "state                                4\n",
       "presence_of_child_ind                2\n",
       "streaming_media_subs                 2\n",
       "streaming_entertainment_subs         2\n",
       "marital_status                       3\n",
       "gender                               3\n",
       "income                              12\n",
       "number_of_news_subs                  9\n",
       "age                                 82\n",
       "dtype: int64"
      ]
     },
     "execution_count": 6,
     "metadata": {},
     "output_type": "execute_result"
    }
   ],
   "source": [
    "data.nunique(dropna=False)"
   ]
  },
  {
   "cell_type": "code",
   "execution_count": 7,
   "id": "439a50ad",
   "metadata": {},
   "outputs": [],
   "source": [
    "# some observations on the data from the stats\n",
    "#anon_person_id should be unique. But, seems like they range from 1 to 999,500 only in the \n",
    "#million records indicating duplicates\n",
    "#~15% of the respondents are podcast listeners\n",
    "# For states CA is the most repeated value\n",
    "# More than 82% of the respondends do not have any media streaming subscriptions\n",
    "#~66% of the respondents marital status 'Unknown'. Hence, it does not make sense to use this variable for a concrete analysis\n",
    "#57.5% of respondents are male\n",
    "#Respondents ages range rom 19 to 99\n",
    "#number of news subscriptions ranges from 0 to 8"
   ]
  },
  {
   "cell_type": "code",
   "execution_count": 8,
   "id": "39c18d3e",
   "metadata": {},
   "outputs": [],
   "source": [
    "#Let's drop the duplicate anon_person_id\n",
    "data=data.drop_duplicates(subset=['anon_person_id'])"
   ]
  },
  {
   "cell_type": "code",
   "execution_count": 9,
   "id": "537ffd1f",
   "metadata": {},
   "outputs": [
    {
     "data": {
      "text/plain": [
       "0    849834\n",
       "1    149666\n",
       "Name: target, dtype: int64"
      ]
     },
     "execution_count": 9,
     "metadata": {},
     "output_type": "execute_result"
    }
   ],
   "source": [
    "data.target.value_counts()"
   ]
  },
  {
   "cell_type": "code",
   "execution_count": 10,
   "id": "1221ff77",
   "metadata": {},
   "outputs": [
    {
     "data": {
      "text/plain": [
       "U    659594\n",
       "M    290444\n",
       "S     49462\n",
       "Name: marital_status, dtype: int64"
      ]
     },
     "execution_count": 10,
     "metadata": {},
     "output_type": "execute_result"
    }
   ],
   "source": [
    "data.marital_status.value_counts()"
   ]
  },
  {
   "cell_type": "code",
   "execution_count": 11,
   "id": "4091db4f",
   "metadata": {},
   "outputs": [
    {
     "data": {
      "text/plain": [
       "Male       574328\n",
       "Female     345986\n",
       "feMalee     79186\n",
       "Name: gender, dtype: int64"
      ]
     },
     "execution_count": 11,
     "metadata": {},
     "output_type": "execute_result"
    }
   ],
   "source": [
    "data.gender.value_counts()"
   ]
  },
  {
   "cell_type": "code",
   "execution_count": 12,
   "id": "1a8c62b6",
   "metadata": {},
   "outputs": [
    {
     "data": {
      "text/plain": [
       "Male      574328\n",
       "Female    425172\n",
       "Name: gender, dtype: int64"
      ]
     },
     "execution_count": 12,
     "metadata": {},
     "output_type": "execute_result"
    }
   ],
   "source": [
    "#Some of the gender values have a typo. Let's correct it\n",
    "data.loc[data['gender'] == 'feMalee', 'gender'] = 'Female'\n",
    "data.gender.value_counts()"
   ]
  },
  {
   "cell_type": "code",
   "execution_count": 13,
   "id": "20190c59",
   "metadata": {},
   "outputs": [
    {
     "data": {
      "text/plain": [
       "N    825891\n",
       "Y    173609\n",
       "Name: streaming_media_subs, dtype: int64"
      ]
     },
     "execution_count": 13,
     "metadata": {},
     "output_type": "execute_result"
    }
   ],
   "source": [
    "data.streaming_media_subs.value_counts()"
   ]
  },
  {
   "cell_type": "code",
   "execution_count": 14,
   "id": "616bc592",
   "metadata": {},
   "outputs": [
    {
     "data": {
      "text/plain": [
       "0    825891\n",
       "1    173609\n",
       "Name: streaming_entertainment_subs, dtype: int64"
      ]
     },
     "execution_count": 14,
     "metadata": {},
     "output_type": "execute_result"
    }
   ],
   "source": [
    "data.streaming_entertainment_subs.value_counts()"
   ]
  },
  {
   "cell_type": "code",
   "execution_count": 15,
   "id": "8bc4bf23",
   "metadata": {},
   "outputs": [
    {
     "data": {
      "text/plain": [
       "(0, 11)"
      ]
     },
     "execution_count": 15,
     "metadata": {},
     "output_type": "execute_result"
    }
   ],
   "source": [
    "#the streaming_media_subs and streaming_entertainment_subs seem to have same values. let's check\n",
    "data[(data['streaming_media_subs']=='Y') & (data['streaming_entertainment_subs']==0)].shape"
   ]
  },
  {
   "cell_type": "code",
   "execution_count": 16,
   "id": "8a7dffa9",
   "metadata": {},
   "outputs": [],
   "source": [
    "#number of rows with conflicting values for streaming_media_subs and streaming_entertainment_subs is 0.\n",
    "#So, we will eliminate streaming_media_subs from our analysis"
   ]
  },
  {
   "cell_type": "code",
   "execution_count": 17,
   "id": "8c943535",
   "metadata": {},
   "outputs": [
    {
     "data": {
      "text/plain": [
       "0    919312\n",
       "2     25336\n",
       "3     21657\n",
       "1     16509\n",
       "4     11717\n",
       "5      4018\n",
       "6       850\n",
       "7        95\n",
       "8         6\n",
       "Name: number_of_news_subs, dtype: int64"
      ]
     },
     "execution_count": 17,
     "metadata": {},
     "output_type": "execute_result"
    }
   ],
   "source": [
    "data.number_of_news_subs.value_counts()"
   ]
  },
  {
   "cell_type": "code",
   "execution_count": 18,
   "id": "9037c5e9",
   "metadata": {},
   "outputs": [
    {
     "data": {
      "text/plain": [
       "0    854883\n",
       "1    144617\n",
       "Name: presence_of_child_ind, dtype: int64"
      ]
     },
     "execution_count": 18,
     "metadata": {},
     "output_type": "execute_result"
    }
   ],
   "source": [
    "data.presence_of_child_ind.value_counts()"
   ]
  },
  {
   "cell_type": "code",
   "execution_count": 19,
   "id": "e35a5b3e",
   "metadata": {},
   "outputs": [
    {
     "data": {
      "text/plain": [
       "CA    976587\n",
       "GA     10831\n",
       "DC      2058\n",
       "Name: state, dtype: int64"
      ]
     },
     "execution_count": 19,
     "metadata": {},
     "output_type": "execute_result"
    }
   ],
   "source": [
    "data.state.value_counts()"
   ]
  },
  {
   "cell_type": "code",
   "execution_count": 20,
   "id": "05a93d12",
   "metadata": {},
   "outputs": [],
   "source": [
    "#Impute the missing values for state with most frequent value\n",
    "most_frequent_category=data['state'].mode()[0]\n",
    "data['state'].fillna(most_frequent_category,inplace=True)"
   ]
  },
  {
   "cell_type": "code",
   "execution_count": 21,
   "id": "53191f8b",
   "metadata": {},
   "outputs": [
    {
     "data": {
      "text/plain": [
       "$200k-224k    230501\n",
       "$175k-199k    211354\n",
       "$225k-249k    173785\n",
       "$150k-174k    145531\n",
       "$125k-149k     82226\n",
       "$250k+         80029\n",
       "$100k-124k     38702\n",
       "U              16945\n",
       "$75k-99k       15003\n",
       "$50k-74k        4506\n",
       "$25k-49k         839\n",
       "<$25k             79\n",
       "Name: income, dtype: int64"
      ]
     },
     "execution_count": 21,
     "metadata": {},
     "output_type": "execute_result"
    }
   ],
   "source": [
    "data.income.value_counts()"
   ]
  },
  {
   "cell_type": "code",
   "execution_count": 22,
   "id": "369144f6",
   "metadata": {},
   "outputs": [
    {
     "data": {
      "text/plain": [
       "$200k-224k    230501\n",
       "$175k-199k    211354\n",
       "$225k-249k    173785\n",
       "$150k-174k    145531\n",
       "$125k-149k     82226\n",
       "$250k+         80029\n",
       "$100k-124k     38702\n",
       "U              16945\n",
       "$75k-99k       15003\n",
       "$50k-74k        4506\n",
       "$25k-49k         839\n",
       "<$25k             79\n",
       "Name: income, dtype: int64"
      ]
     },
     "execution_count": 22,
     "metadata": {},
     "output_type": "execute_result"
    }
   ],
   "source": [
    "data.income.value_counts()"
   ]
  },
  {
   "cell_type": "code",
   "execution_count": 23,
   "id": "b4c64ba6",
   "metadata": {},
   "outputs": [],
   "source": [
    "#Impute the unknown values for income with most frequent value\n",
    "most_frequent_category=data['income'].mode()[0]\n",
    "data.loc[data['income']=='U','income']=most_frequent_category"
   ]
  },
  {
   "cell_type": "code",
   "execution_count": 24,
   "id": "a4e1ece9",
   "metadata": {},
   "outputs": [],
   "source": [
    "#lets label encode the income with ordinality\n",
    "from sklearn import preprocessing\n",
    "le = preprocessing.OrdinalEncoder()\n",
    "cats={'<$25k':0,'$25k-49k':1,'$50k-74k':2,'$75k-99k':3,'$100k-124k':4,'$125k-149k':5,'$150k-174k':6,'$175k-199k':7,\n",
    "     '$200k-224k':8,'$225k-249k':9,'$250k+':10}\n",
    "\n",
    "data['income']=data.income.map(cats)"
   ]
  },
  {
   "cell_type": "code",
   "execution_count": 25,
   "id": "46a04ed1",
   "metadata": {},
   "outputs": [
    {
     "data": {
      "text/plain": [
       "45.0    277748\n",
       "44.0     22169\n",
       "46.0     21826\n",
       "43.0     21446\n",
       "47.0     20814\n",
       "         ...  \n",
       "95.0      1529\n",
       "96.0      1396\n",
       "97.0      1328\n",
       "98.0      1189\n",
       "99.0      1142\n",
       "Name: age, Length: 81, dtype: int64"
      ]
     },
     "execution_count": 25,
     "metadata": {},
     "output_type": "execute_result"
    }
   ],
   "source": [
    "data.age.value_counts()"
   ]
  },
  {
   "cell_type": "code",
   "execution_count": 26,
   "id": "775174a3",
   "metadata": {},
   "outputs": [],
   "source": [
    "#Impute the missing values for age with most frequent value\n",
    "most_frequent_category=data['age'].mode()[0]\n",
    "data['age'].fillna(most_frequent_category,inplace=True)"
   ]
  },
  {
   "cell_type": "code",
   "execution_count": 27,
   "id": "6261f77d",
   "metadata": {},
   "outputs": [
    {
     "data": {
      "text/plain": [
       "(array([ 49879.,  52639.,  56368.,  67935.,  96034., 381986.,  77413.,\n",
       "         49195.,  38571.,  32296.,  27176.,  21821.,  17303.,  13015.,\n",
       "          9648.,   8221.]),\n",
       " array([19., 24., 29., 34., 39., 44., 49., 54., 59., 64., 69., 74., 79.,\n",
       "        84., 89., 94., 99.]),\n",
       " <BarContainer object of 16 artists>)"
      ]
     },
     "execution_count": 27,
     "metadata": {},
     "output_type": "execute_result"
    },
    {
     "data": {
      "image/png": "[encoded data removed]",
      "text/plain": [
       "<Figure size 432x288 with 1 Axes>"
      ]
     },
     "metadata": {
      "needs_background": "light"
     },
     "output_type": "display_data"
    }
   ],
   "source": [
    "#checking the histogram for age\n",
    "import matplotlib.pyplot as plt\n",
    "plt.hist(data['age'],color = 'blue', edgecolor = 'black',\n",
    "         bins = int(81/5))"
   ]
  },
  {
   "cell_type": "code",
   "execution_count": 28,
   "id": "462abf11",
   "metadata": {},
   "outputs": [],
   "source": [
    "#For ease of analysis, lets bin and label encode the age with ordinality\n",
    "data['age']=pd.cut(data['age'],16,labels=np.arange(16))"
   ]
  },
  {
   "cell_type": "code",
   "execution_count": 29,
   "id": "54e514d7",
   "metadata": {},
   "outputs": [
    {
     "data": {
      "text/html": [
       "<div>\n",
       "<style scoped>\n",
       "    .dataframe tbody tr th:only-of-type {\n",
       "        vertical-align: middle;\n",
       "    }\n",
       "\n",
       "    .dataframe tbody tr th {\n",
       "        vertical-align: top;\n",
       "    }\n",
       "\n",
       "    .dataframe thead th {\n",
       "        text-align: right;\n",
       "    }\n",
       "</style>\n",
       "<table border=\"1\" class=\"dataframe\">\n",
       "  <thead>\n",
       "    <tr style=\"text-align: right;\">\n",
       "      <th></th>\n",
       "      <th>anon_person_id</th>\n",
       "      <th>target</th>\n",
       "      <th>state</th>\n",
       "      <th>presence_of_child_ind</th>\n",
       "      <th>streaming_media_subs</th>\n",
       "      <th>streaming_entertainment_subs</th>\n",
       "      <th>marital_status</th>\n",
       "      <th>gender</th>\n",
       "      <th>income</th>\n",
       "      <th>number_of_news_subs</th>\n",
       "      <th>age</th>\n",
       "      <th>state_CA</th>\n",
       "      <th>state_DC</th>\n",
       "      <th>state_GA</th>\n",
       "      <th>gender_Female</th>\n",
       "      <th>gender_Male</th>\n",
       "    </tr>\n",
       "  </thead>\n",
       "  <tbody>\n",
       "    <tr>\n",
       "      <th>0</th>\n",
       "      <td>1</td>\n",
       "      <td>0</td>\n",
       "      <td>CA</td>\n",
       "      <td>0</td>\n",
       "      <td>N</td>\n",
       "      <td>0</td>\n",
       "      <td>M</td>\n",
       "      <td>Female</td>\n",
       "      <td>7</td>\n",
       "      <td>0</td>\n",
       "      <td>4</td>\n",
       "      <td>1</td>\n",
       "      <td>0</td>\n",
       "      <td>0</td>\n",
       "      <td>1</td>\n",
       "      <td>0</td>\n",
       "    </tr>\n",
       "    <tr>\n",
       "      <th>1</th>\n",
       "      <td>2</td>\n",
       "      <td>0</td>\n",
       "      <td>CA</td>\n",
       "      <td>0</td>\n",
       "      <td>N</td>\n",
       "      <td>0</td>\n",
       "      <td>U</td>\n",
       "      <td>Male</td>\n",
       "      <td>9</td>\n",
       "      <td>0</td>\n",
       "      <td>14</td>\n",
       "      <td>1</td>\n",
       "      <td>0</td>\n",
       "      <td>0</td>\n",
       "      <td>0</td>\n",
       "      <td>1</td>\n",
       "    </tr>\n",
       "    <tr>\n",
       "      <th>2</th>\n",
       "      <td>3</td>\n",
       "      <td>1</td>\n",
       "      <td>CA</td>\n",
       "      <td>0</td>\n",
       "      <td>Y</td>\n",
       "      <td>1</td>\n",
       "      <td>S</td>\n",
       "      <td>Female</td>\n",
       "      <td>6</td>\n",
       "      <td>0</td>\n",
       "      <td>5</td>\n",
       "      <td>1</td>\n",
       "      <td>0</td>\n",
       "      <td>0</td>\n",
       "      <td>1</td>\n",
       "      <td>0</td>\n",
       "    </tr>\n",
       "    <tr>\n",
       "      <th>3</th>\n",
       "      <td>4</td>\n",
       "      <td>0</td>\n",
       "      <td>CA</td>\n",
       "      <td>1</td>\n",
       "      <td>N</td>\n",
       "      <td>0</td>\n",
       "      <td>U</td>\n",
       "      <td>Female</td>\n",
       "      <td>5</td>\n",
       "      <td>0</td>\n",
       "      <td>1</td>\n",
       "      <td>1</td>\n",
       "      <td>0</td>\n",
       "      <td>0</td>\n",
       "      <td>1</td>\n",
       "      <td>0</td>\n",
       "    </tr>\n",
       "    <tr>\n",
       "      <th>4</th>\n",
       "      <td>5</td>\n",
       "      <td>0</td>\n",
       "      <td>CA</td>\n",
       "      <td>0</td>\n",
       "      <td>N</td>\n",
       "      <td>0</td>\n",
       "      <td>U</td>\n",
       "      <td>Female</td>\n",
       "      <td>7</td>\n",
       "      <td>0</td>\n",
       "      <td>8</td>\n",
       "      <td>1</td>\n",
       "      <td>0</td>\n",
       "      <td>0</td>\n",
       "      <td>1</td>\n",
       "      <td>0</td>\n",
       "    </tr>\n",
       "  </tbody>\n",
       "</table>\n",
       "</div>"
      ],
      "text/plain": [
       "   anon_person_id  target state  presence_of_child_ind streaming_media_subs  \\\n",
       "0               1       0    CA                      0                    N   \n",
       "1               2       0    CA                      0                    N   \n",
       "2               3       1    CA                      0                    Y   \n",
       "3               4       0    CA                      1                    N   \n",
       "4               5       0    CA                      0                    N   \n",
       "\n",
       "   streaming_entertainment_subs marital_status  gender  income  \\\n",
       "0                             0              M  Female       7   \n",
       "1                             0              U    Male       9   \n",
       "2                             1              S  Female       6   \n",
       "3                             0              U  Female       5   \n",
       "4                             0              U  Female       7   \n",
       "\n",
       "   number_of_news_subs age  state_CA  state_DC  state_GA  gender_Female  \\\n",
       "0                    0   4         1         0         0              1   \n",
       "1                    0  14         1         0         0              0   \n",
       "2                    0   5         1         0         0              1   \n",
       "3                    0   1         1         0         0              1   \n",
       "4                    0   8         1         0         0              1   \n",
       "\n",
       "   gender_Male  \n",
       "0            0  \n",
       "1            1  \n",
       "2            0  \n",
       "3            0  \n",
       "4            0  "
      ]
     },
     "execution_count": 29,
     "metadata": {},
     "output_type": "execute_result"
    }
   ],
   "source": [
    "#one hot encode categorical columns\n",
    "datam=pd.concat([data,pd.get_dummies(data['state'],prefix='state',drop_first=False)],axis=1)\n",
    "datam=pd.concat([datam,pd.get_dummies(data['gender'],prefix='gender',drop_first=False)],axis=1)\n",
    "datam.head()"
   ]
  },
  {
   "cell_type": "code",
   "execution_count": 30,
   "id": "bc6f7ad5",
   "metadata": {},
   "outputs": [
    {
     "data": {
      "text/html": [
       "<div>\n",
       "<style scoped>\n",
       "    .dataframe tbody tr th:only-of-type {\n",
       "        vertical-align: middle;\n",
       "    }\n",
       "\n",
       "    .dataframe tbody tr th {\n",
       "        vertical-align: top;\n",
       "    }\n",
       "\n",
       "    .dataframe thead th {\n",
       "        text-align: right;\n",
       "    }\n",
       "</style>\n",
       "<table border=\"1\" class=\"dataframe\">\n",
       "  <thead>\n",
       "    <tr style=\"text-align: right;\">\n",
       "      <th></th>\n",
       "      <th>target</th>\n",
       "      <th>presence_of_child_ind</th>\n",
       "      <th>streaming_entertainment_subs</th>\n",
       "      <th>income</th>\n",
       "      <th>number_of_news_subs</th>\n",
       "      <th>age</th>\n",
       "      <th>state_CA</th>\n",
       "      <th>state_DC</th>\n",
       "      <th>state_GA</th>\n",
       "      <th>gender_Female</th>\n",
       "      <th>gender_Male</th>\n",
       "    </tr>\n",
       "  </thead>\n",
       "  <tbody>\n",
       "    <tr>\n",
       "      <th>0</th>\n",
       "      <td>0</td>\n",
       "      <td>0</td>\n",
       "      <td>0</td>\n",
       "      <td>7</td>\n",
       "      <td>0</td>\n",
       "      <td>4</td>\n",
       "      <td>1</td>\n",
       "      <td>0</td>\n",
       "      <td>0</td>\n",
       "      <td>1</td>\n",
       "      <td>0</td>\n",
       "    </tr>\n",
       "    <tr>\n",
       "      <th>1</th>\n",
       "      <td>0</td>\n",
       "      <td>0</td>\n",
       "      <td>0</td>\n",
       "      <td>9</td>\n",
       "      <td>0</td>\n",
       "      <td>14</td>\n",
       "      <td>1</td>\n",
       "      <td>0</td>\n",
       "      <td>0</td>\n",
       "      <td>0</td>\n",
       "      <td>1</td>\n",
       "    </tr>\n",
       "    <tr>\n",
       "      <th>2</th>\n",
       "      <td>1</td>\n",
       "      <td>0</td>\n",
       "      <td>1</td>\n",
       "      <td>6</td>\n",
       "      <td>0</td>\n",
       "      <td>5</td>\n",
       "      <td>1</td>\n",
       "      <td>0</td>\n",
       "      <td>0</td>\n",
       "      <td>1</td>\n",
       "      <td>0</td>\n",
       "    </tr>\n",
       "    <tr>\n",
       "      <th>3</th>\n",
       "      <td>0</td>\n",
       "      <td>1</td>\n",
       "      <td>0</td>\n",
       "      <td>5</td>\n",
       "      <td>0</td>\n",
       "      <td>1</td>\n",
       "      <td>1</td>\n",
       "      <td>0</td>\n",
       "      <td>0</td>\n",
       "      <td>1</td>\n",
       "      <td>0</td>\n",
       "    </tr>\n",
       "    <tr>\n",
       "      <th>4</th>\n",
       "      <td>0</td>\n",
       "      <td>0</td>\n",
       "      <td>0</td>\n",
       "      <td>7</td>\n",
       "      <td>0</td>\n",
       "      <td>8</td>\n",
       "      <td>1</td>\n",
       "      <td>0</td>\n",
       "      <td>0</td>\n",
       "      <td>1</td>\n",
       "      <td>0</td>\n",
       "    </tr>\n",
       "  </tbody>\n",
       "</table>\n",
       "</div>"
      ],
      "text/plain": [
       "   target  presence_of_child_ind  streaming_entertainment_subs  income  \\\n",
       "0       0                      0                             0       7   \n",
       "1       0                      0                             0       9   \n",
       "2       1                      0                             1       6   \n",
       "3       0                      1                             0       5   \n",
       "4       0                      0                             0       7   \n",
       "\n",
       "   number_of_news_subs age  state_CA  state_DC  state_GA  gender_Female  \\\n",
       "0                    0   4         1         0         0              1   \n",
       "1                    0  14         1         0         0              0   \n",
       "2                    0   5         1         0         0              1   \n",
       "3                    0   1         1         0         0              1   \n",
       "4                    0   8         1         0         0              1   \n",
       "\n",
       "   gender_Male  \n",
       "0            0  \n",
       "1            1  \n",
       "2            0  \n",
       "3            0  \n",
       "4            0  "
      ]
     },
     "execution_count": 30,
     "metadata": {},
     "output_type": "execute_result"
    }
   ],
   "source": [
    "#drop unneeded columns\n",
    "datam.drop(columns=['anon_person_id','state','streaming_media_subs','marital_status','gender'],inplace=True)\n",
    "datam.head()"
   ]
  },
  {
   "cell_type": "markdown",
   "id": "a523afbc",
   "metadata": {},
   "source": [
    "# Feature Inter-relations"
   ]
  },
  {
   "cell_type": "code",
   "execution_count": 31,
   "id": "c71d247c",
   "metadata": {},
   "outputs": [
    {
     "name": "stdout",
     "output_type": "stream",
     "text": [
      "1                             age  gender_Female  gender_Male  income  \\\n",
      "0                                                                       \n",
      "age                           0.0            0.0          0.0     0.0   \n",
      "gender_Female                 0.0            0.0          0.0     0.0   \n",
      "gender_Male                   0.0            0.0          0.0     0.0   \n",
      "income                        0.0            0.0          0.0     0.0   \n",
      "number_of_news_subs           0.0            0.0          0.0     0.0   \n",
      "presence_of_child_ind         0.0            0.0          0.0     0.0   \n",
      "state_CA                      0.0            0.0          0.0     0.0   \n",
      "state_DC                      0.0            0.0          0.0     0.0   \n",
      "state_GA                      0.0            0.0          0.0     0.0   \n",
      "streaming_entertainment_subs  0.0            0.0          0.0     0.0   \n",
      "target                        0.0            0.0          0.0     0.0   \n",
      "\n",
      "1                             number_of_news_subs  presence_of_child_ind  \\\n",
      "0                                                                          \n",
      "age                                           0.0                    0.0   \n",
      "gender_Female                                 0.0                    0.0   \n",
      "gender_Male                                   0.0                    0.0   \n",
      "income                                        0.0                    0.0   \n",
      "number_of_news_subs                           0.0                    0.0   \n",
      "presence_of_child_ind                         0.0                    0.0   \n",
      "state_CA                                      0.0                    0.0   \n",
      "state_DC                                      0.0                    0.0   \n",
      "state_GA                                      0.0                    0.0   \n",
      "streaming_entertainment_subs                  0.0                    0.0   \n",
      "target                                        0.0                    0.0   \n",
      "\n",
      "1                             state_CA  state_DC  state_GA  \\\n",
      "0                                                            \n",
      "age                                0.0       0.0       0.0   \n",
      "gender_Female                      0.0       0.0       0.0   \n",
      "gender_Male                        0.0       0.0       0.0   \n",
      "income                             0.0       0.0       0.0   \n",
      "number_of_news_subs                0.0       0.0       0.0   \n",
      "presence_of_child_ind              0.0       0.0       0.0   \n",
      "state_CA                           0.0       0.0       0.0   \n",
      "state_DC                           0.0       0.0       0.0   \n",
      "state_GA                           0.0       0.0       0.0   \n",
      "streaming_entertainment_subs       0.0       0.0       0.0   \n",
      "target                             0.0       0.0       0.0   \n",
      "\n",
      "1                             streaming_entertainment_subs  target  \n",
      "0                                                                   \n",
      "age                                                    0.0     0.0  \n",
      "gender_Female                                          0.0     0.0  \n",
      "gender_Male                                            0.0     0.0  \n",
      "income                                                 0.0     0.0  \n",
      "number_of_news_subs                                    0.0     0.0  \n",
      "presence_of_child_ind                                  0.0     0.0  \n",
      "state_CA                                               0.0     0.0  \n",
      "state_DC                                               0.0     0.0  \n",
      "state_GA                                               0.0     0.0  \n",
      "streaming_entertainment_subs                           0.0     0.0  \n",
      "target                                                 0.0     0.0  \n"
     ]
    }
   ],
   "source": [
    "#Since we have discrete values let's check the chi-square stats\n",
    "from scipy.stats import chi2_contingency\n",
    "lstV=[]\n",
    "lstP=[]\n",
    "for col in datam.columns:\n",
    "    for colA in datam.columns:\n",
    "        CrosstabResult=pd.crosstab(index=datam[col],columns=datam[colA])\n",
    "        # Performing Chi-sq test\n",
    "        ChiSqResult = chi2_contingency(CrosstabResult,correction=False)\n",
    "        n=np.sum(np.sum(CrosstabResult)) \n",
    "        minDim = min(CrosstabResult.shape)-1\n",
    "        \n",
    "        #calculate Cramer's V \n",
    "        V = np.sqrt((ChiSqResult[0]/n) / minDim)\n",
    "        resultV=[col,colA,round(V,2)]\n",
    "        resultP=[col,colA,round(ChiSqResult[1],2)]\n",
    "        \n",
    "        lstV.append(resultV)\n",
    "        lstP.append(resultP)\n",
    "        \n",
    "dfP=pd.DataFrame(lstP)\n",
    "dfV=pd.DataFrame(lstV)\n",
    "print(pd.crosstab(index=dfP.iloc[:,0], columns=dfP.iloc[:,1], \n",
    "                  values=dfP.iloc[:,2], aggfunc='sum'))\n"
   ]
  },
  {
   "cell_type": "code",
   "execution_count": 32,
   "id": "40f73713",
   "metadata": {},
   "outputs": [
    {
     "data": {
      "text/plain": [
       "<AxesSubplot:xlabel='1', ylabel='0'>"
      ]
     },
     "execution_count": 32,
     "metadata": {},
     "output_type": "execute_result"
    },
    {
     "data": {
      "image/png": "[encoded data removed]",
      "text/plain": [
       "<Figure size 792x648 with 2 Axes>"
      ]
     },
     "metadata": {
      "needs_background": "light"
     },
     "output_type": "display_data"
    }
   ],
   "source": [
    "import seaborn as sns\n",
    "# Set up the matplotlib figure\n",
    "f, ax = plt.subplots(figsize=(11, 9))\n",
    "\n",
    "# Generate a custom diverging colormap\n",
    "cmap = sns.diverging_palette(230, 20, as_cmap=True)\n",
    "\n",
    "# Draw the heatmap for cramers V\n",
    "sns.heatmap(pd.crosstab(index=dfV.iloc[:,0], columns=dfV.iloc[:,1], \n",
    "                  values=dfV.iloc[:,2], aggfunc='sum'),cmap=cmap, vmax=.3, center=0,\n",
    "            square=True, linewidths=.5, cbar_kws={\"shrink\": .5})"
   ]
  },
  {
   "cell_type": "code",
   "execution_count": 33,
   "id": "018f2fba",
   "metadata": {},
   "outputs": [],
   "source": [
    "#chi-square stats implies some of level dependency across the dependent variables (except state) and independent variable"
   ]
  },
  {
   "cell_type": "code",
   "execution_count": 34,
   "id": "3bb092a3",
   "metadata": {},
   "outputs": [
    {
     "name": "stdout",
     "output_type": "stream",
     "text": [
      "Ratio of podcast listners across  presence_of_child_ind\n"
     ]
    },
    {
     "data": {
      "image/png": "[encoded data removed]",
      "text/plain": [
       "<Figure size 432x288 with 1 Axes>"
      ]
     },
     "metadata": {
      "needs_background": "light"
     },
     "output_type": "display_data"
    },
    {
     "name": "stdout",
     "output_type": "stream",
     "text": [
      "Ratio of podcast listners across  streaming_entertainment_subs\n"
     ]
    },
    {
     "data": {
      "image/png": "[encoded data removed]",
      "text/plain": [
       "<Figure size 432x288 with 1 Axes>"
      ]
     },
     "metadata": {
      "needs_background": "light"
     },
     "output_type": "display_data"
    },
    {
     "name": "stdout",
     "output_type": "stream",
     "text": [
      "Ratio of podcast listners across  income\n"
     ]
    },
    {
     "data": {
      "image/png": "[encoded data removed]",
      "text/plain": [
       "<Figure size 432x288 with 1 Axes>"
      ]
     },
     "metadata": {
      "needs_background": "light"
     },
     "output_type": "display_data"
    },
    {
     "name": "stdout",
     "output_type": "stream",
     "text": [
      "Ratio of podcast listners across  number_of_news_subs\n"
     ]
    },
    {
     "data": {
      "image/png": "[encoded data removed]",
      "text/plain": [
       "<Figure size 432x288 with 1 Axes>"
      ]
     },
     "metadata": {
      "needs_background": "light"
     },
     "output_type": "display_data"
    },
    {
     "name": "stdout",
     "output_type": "stream",
     "text": [
      "Ratio of podcast listners across  age\n"
     ]
    },
    {
     "data": {
      "image/png": "[encoded data removed]",
      "text/plain": [
       "<Figure size 432x288 with 1 Axes>"
      ]
     },
     "metadata": {
      "needs_background": "light"
     },
     "output_type": "display_data"
    },
    {
     "name": "stdout",
     "output_type": "stream",
     "text": [
      "Ratio of podcast listners across  state_CA\n"
     ]
    },
    {
     "data": {
      "image/png": "[encoded data removed]",
      "text/plain": [
       "<Figure size 432x288 with 1 Axes>"
      ]
     },
     "metadata": {
      "needs_background": "light"
     },
     "output_type": "display_data"
    },
    {
     "name": "stdout",
     "output_type": "stream",
     "text": [
      "Ratio of podcast listners across  state_DC\n"
     ]
    },
    {
     "data": {
      "image/png": "[encoded data removed]",
      "text/plain": [
       "<Figure size 432x288 with 1 Axes>"
      ]
     },
     "metadata": {
      "needs_background": "light"
     },
     "output_type": "display_data"
    },
    {
     "name": "stdout",
     "output_type": "stream",
     "text": [
      "Ratio of podcast listners across  state_GA\n"
     ]
    },
    {
     "data": {
      "image/png": "[encoded data removed]",
      "text/plain": [
       "<Figure size 432x288 with 1 Axes>"
      ]
     },
     "metadata": {
      "needs_background": "light"
     },
     "output_type": "display_data"
    },
    {
     "name": "stdout",
     "output_type": "stream",
     "text": [
      "Ratio of podcast listners across  gender_Female\n"
     ]
    },
    {
     "data": {
      "image/png": "[encoded data removed]",
      "text/plain": [
       "<Figure size 432x288 with 1 Axes>"
      ]
     },
     "metadata": {
      "needs_background": "light"
     },
     "output_type": "display_data"
    },
    {
     "name": "stdout",
     "output_type": "stream",
     "text": [
      "Ratio of podcast listners across  gender_Male\n"
     ]
    },
    {
     "data": {
      "image/png": "[encoded data removed]",
      "text/plain": [
       "<Figure size 432x288 with 1 Axes>"
      ]
     },
     "metadata": {
      "needs_background": "light"
     },
     "output_type": "display_data"
    }
   ],
   "source": [
    "#checking for variability in target value for different values of independent variables\n",
    "for col in datam.columns:\n",
    "    if col!='target':\n",
    "        print('Ratio of podcast listners across ',col)\n",
    "        plt.figure()\n",
    "        plt.bar(datam.groupby(col).mean()['target'].index,datam.groupby(col).mean()['target'])\n",
    "        plt.show()"
   ]
  },
  {
   "cell_type": "code",
   "execution_count": 35,
   "id": "82142464",
   "metadata": {},
   "outputs": [],
   "source": [
    "#Some observations from above plots:\n",
    "#users with children have 6x probability of listening to podcasts than those without children\n",
    "#users with streaming entertainment subscriptions have 5x probability of listening to podcasts than those without subscription\n",
    "#Probability of listening to podcasts decreases with income increase\n",
    "#users with at least 1 news subsriptions listen to podcasts with 100% certainity\n",
    "#users below the age of 29 and above 60 have almost 0 probability of listenting to podcasts\n",
    "#Female users have 5x probability of listening to podcasts than male users"
   ]
  },
  {
   "cell_type": "code",
   "execution_count": 36,
   "id": "26961664",
   "metadata": {},
   "outputs": [],
   "source": [
    "##function to compute weight of evidence and information value. \n",
    "\n",
    "def iv_woe(data, target):\n",
    "    \n",
    "    #Empty Dataframe\n",
    "    newDF,woeDF = pd.DataFrame(), pd.DataFrame()\n",
    "    \n",
    "    #Extract Column Names\n",
    "    cols = data.columns\n",
    "    \n",
    "    #Run WOE and IV on all the independent variables\n",
    "    for ivars in cols[~cols.isin([target])]:\n",
    "        d0 = pd.DataFrame({'x': data[ivars], 'y': data[target]})\n",
    "        d = d0.groupby(\"x\", as_index=False).agg({\"y\": [\"count\", \"sum\"]})\n",
    "        d.columns = ['Cutoff', 'N', 'Events']\n",
    "        d['% of Events'] = np.maximum(d['Events'], 0.5) / d['Events'].sum()\n",
    "        d['Non-Events'] = d['N'] - d['Events']\n",
    "        d['% of Non-Events'] = np.maximum(d['Non-Events'], 0.5) / d['Non-Events'].sum()\n",
    "        d['WoE'] = np.log(d['% of Events']/d['% of Non-Events'])\n",
    "        d['IV'] = d['WoE'] * (d['% of Events'] - d['% of Non-Events'])\n",
    "        d.insert(loc=0, column='Variable', value=ivars)\n",
    "        print(\"Information value of \" + ivars + \" is \" + str(round(d['IV'].sum(),6)))\n",
    "        temp =pd.DataFrame({\"Variable\" : [ivars], \"IV\" : [d['IV'].sum()]}, columns = [\"Variable\", \"IV\"])\n",
    "        newDF=pd.concat([newDF,temp], axis=0)\n",
    "        woeDF=pd.concat([woeDF,d], axis=0)\n",
    "\n",
    "        \n",
    "    return newDF, woeDF"
   ]
  },
  {
   "cell_type": "code",
   "execution_count": 37,
   "id": "4cb2e12f",
   "metadata": {},
   "outputs": [
    {
     "name": "stdout",
     "output_type": "stream",
     "text": [
      "Information value of presence_of_child_ind is 1.429035\n",
      "Information value of streaming_entertainment_subs is 1.253752\n",
      "Information value of income is 1.828374\n",
      "Information value of number_of_news_subs is 6.942812\n",
      "Information value of age is 2.835916\n",
      "Information value of state_CA is 0.005896\n",
      "Information value of state_DC is 0.00355\n",
      "Information value of state_GA is 0.003669\n",
      "Information value of gender_Female is 0.855829\n",
      "Information value of gender_Male is 0.855829\n"
     ]
    }
   ],
   "source": [
    "iv, woe = iv_woe(data = datam, target = 'target')\n",
    "\n",
    "#IV for states is less than 0.02 which implies that we can remove the state columns without effect on any regression analysis"
   ]
  },
  {
   "cell_type": "code",
   "execution_count": null,
   "id": "f5af729b",
   "metadata": {},
   "outputs": [],
   "source": []
  },
  {
   "cell_type": "markdown",
   "id": "fe6cc2b3",
   "metadata": {},
   "source": [
    "# Machine Learning Model"
   ]
  },
  {
   "cell_type": "code",
   "execution_count": 114,
   "id": "8e8454e1",
   "metadata": {},
   "outputs": [],
   "source": [
    "#buiilding a pipeline for ML classification\n",
    "from sklearn.model_selection import train_test_split\n",
    "from sklearn.preprocessing import StandardScaler\n",
    "from sklearn.decomposition import PCA\n",
    "from sklearn.pipeline import Pipeline\n",
    "from sklearn.model_selection import GridSearchCV\n",
    "from sklearn.metrics import accuracy_score\n",
    "\n",
    "from sklearn.linear_model import LogisticRegression\n",
    "from sklearn.ensemble import RandomForestClassifier\n",
    "from sklearn import svm\n",
    "from sklearn.metrics import confusion_matrix\n",
    "from sklearn.metrics import recall_score\n",
    "from sklearn.metrics import precision_score\n",
    "from sklearn.metrics import f1_score\n",
    "from sklearn.metrics import roc_auc_score\n",
    "import xgboost as xgb\n",
    "\n",
    "\n",
    "# Construct some pipelines\n",
    "#focussing on only 3 different models most relevant to classification in this case\n",
    "pipe_lr = Pipeline([\n",
    "('clf', LogisticRegression(random_state=42))])\n",
    "\n",
    "pipe_rf = Pipeline([\n",
    "('clf', RandomForestClassifier(random_state=42))])\n",
    "\n",
    "\n",
    "\n",
    "pipe_xgb = Pipeline([\n",
    "('clf', xgb.XGBClassifier(use_label_encoder=False,random_state=42))])\n",
    "\n",
    "\n",
    "\n",
    "# Set grid search params\n",
    "# Considering the small number of independent variables parameter tuning is kept to a minimum\n",
    "param_range = [1, 2, 3, 4, 5, 6, 7, 8, 9, 10]\n",
    "param_range_fl = [1.0, 0.5, 0.1]\n",
    "\n",
    "grid_params_lr = [{'clf__penalty': ['l1', 'l2'],\n",
    "'clf__C': param_range_fl,\n",
    "'clf__solver': ['liblinear']}] \n",
    "\n",
    "grid_params_rf = [{'clf__criterion': ['gini', 'entropy'],\n",
    "'clf__n_estimators': [10, 20, 30]}]\n",
    "\n",
    "grid_params_xgb = [{'clf__n_estimators': [10, 20, 30],\n",
    "    'clf__learning_rate': [0.01, 0.1, 0.2, 0.3]}]\n",
    "\n",
    "# Construct grid searches\n",
    "jobs = -1\n",
    "\n",
    "gs_lr = GridSearchCV(estimator=pipe_lr,\n",
    "param_grid=grid_params_lr,\n",
    "scoring='accuracy',\n",
    "cv=10) \n",
    "\n",
    "\n",
    "\n",
    "gs_rf = GridSearchCV(estimator=pipe_rf,\n",
    "param_grid=grid_params_rf,\n",
    "scoring='accuracy',\n",
    "cv=10, \n",
    "n_jobs=jobs)\n",
    "\n",
    "\n",
    "gs_xgb = GridSearchCV(estimator=pipe_xgb,\n",
    "param_grid=grid_params_xgb,\n",
    "scoring='accuracy',\n",
    "cv=10,\n",
    "n_jobs=jobs)\n",
    "\n",
    "\n",
    "# List of pipelines for ease of iteration\n",
    "grids = [gs_lr,gs_rf,gs_xgb]\n",
    "\n",
    "#, gs_rf, gs_rf_pca, gs_xgb, gs_xgb_pca\n",
    "# Dictionary of pipelines and classifier types for ease of reference\n",
    "grid_dict = {0: 'Logistic Regression', 1: 'Random Forest', 2: 'XGBoost'}\n",
    "\n"
   ]
  },
  {
   "cell_type": "code",
   "execution_count": 115,
   "id": "610a029b",
   "metadata": {},
   "outputs": [],
   "source": [
    "#function to run the pipelines, find the best model and compute corresponding scores\n",
    "def run_model(df_m,data_name):\n",
    "    lst=[]\n",
    "    df_m=df_m.apply(pd.to_numeric)\n",
    "    X=df_m.loc[:,df_m.columns!='target']\n",
    "    y= df_m['target']\n",
    "    # split data\n",
    "    train_data,test_data = train_test_split(df_m,train_size=0.8,random_state=0)\n",
    "    # select the columns and \n",
    "    # prepare data for the models \n",
    "    X_train = train_data.loc[:,train_data.columns!='target']\n",
    "    y_train = train_data['target']\n",
    "    X_test = test_data.loc[:,test_data.columns!='target']\n",
    "    y_test = test_data['target']\n",
    "    # Fit the grid search objects\n",
    "    print('Performing model optimizations...')\n",
    "    best_acc = 0.0\n",
    "    best_clf = 0\n",
    "    best_gs = ''\n",
    "    for idx, gs in enumerate(grids):\n",
    "        start=dt.datetime.now()\n",
    "        print(idx)\n",
    "        # Fit grid search      \n",
    "        gs.fit(X_train, y_train)\n",
    "\n",
    "        # Predict on test data with best params\n",
    "        y_pred = gs.predict(X_test)\n",
    "        \n",
    "        if grid_dict[idx]=='Logistic Regression':\n",
    "            res=[grid_dict[idx],gs.best_params_,gs.best_score_,accuracy_score(y_test, y_pred),\n",
    "             precision_score(y_test, y_pred, average='weighted'),recall_score(y_test, y_pred, average='weighted'),\n",
    "            f1_score(y_test, y_pred, average='weighted'),roc_auc_score(y_test, y_pred),\n",
    "            gs.best_estimator_.named_steps[\"clf\"].coef_[0]]\n",
    "        else:\n",
    "            res=[grid_dict[idx],gs.best_params_,gs.best_score_,accuracy_score(y_test, y_pred),\n",
    "             precision_score(y_test, y_pred, average='weighted'),recall_score(y_test, y_pred, average='weighted'),\n",
    "            f1_score(y_test, y_pred, average='weighted'),roc_auc_score(y_test, y_pred),\n",
    "            gs.best_estimator_.named_steps[\"clf\"].feature_importances_]\n",
    "        lst.append(res)\n",
    "        \n",
    "        filename = grid_dict[idx] + \"_\"+data_name +\".sav\"\n",
    "        pickle.dump(gs.best_estimator_, open(filename, 'wb'))\n",
    "        # Track best (highest test accuracy) model\n",
    "        if accuracy_score(y_test, y_pred) > best_acc:\n",
    "            best_acc = accuracy_score(y_test, y_pred)\n",
    "            best_gs = gs\n",
    "            best_clf = idx\n",
    "        print('Elapsed time: ',str(dt.datetime.now()-start))\n",
    "    df_res=pd.DataFrame(lst,columns=['Estimator','Best Params','Training Accuracy','Test Accuracy',\n",
    "                                'Precision','Recall','f1','AUC','Feature Importance'])\n",
    "    print('\\nClassifier with best test set accuracy: %s' % grid_dict[best_clf])\n",
    "    return df_res,best_acc,best_gs,best_clf\n",
    "\n",
    "\n",
    "\n"
   ]
  },
  {
   "cell_type": "code",
   "execution_count": 116,
   "id": "8f096ca6",
   "metadata": {},
   "outputs": [
    {
     "name": "stdout",
     "output_type": "stream",
     "text": [
      "Performing model optimizations...\n",
      "0\n",
      "Elapsed time:  0:04:40.612687\n",
      "1\n",
      "Elapsed time:  0:09:32.789275\n",
      "2\n",
      "[16:26:22] WARNING: C:/Users/Administrator/workspace/xgboost-win64_release_1.4.0/src/learner.cc:1095: Starting in XGBoost 1.3.0, the default evaluation metric used with the objective 'binary:logistic' was changed from 'error' to 'logloss'. Explicitly set eval_metric if you'd like to restore the old behavior.\n",
      "Elapsed time:  0:09:44.601498\n",
      "\n",
      "Classifier with best test set accuracy: Random Forest\n"
     ]
    }
   ],
   "source": [
    "#Building a model on data excluding state information\n",
    "datamA=datam.drop(columns=['state_GA','state_CA','state_DC','gender_Male'])\n",
    "datamA=datamA.apply(pd.to_numeric)\n",
    "df_resA,best_accA,best_gsA,best_clfA=run_model(datamA,\"datamA\")"
   ]
  },
  {
   "cell_type": "code",
   "execution_count": 117,
   "id": "2e773eb1",
   "metadata": {},
   "outputs": [
    {
     "data": {
      "text/html": [
       "<div>\n",
       "<style scoped>\n",
       "    .dataframe tbody tr th:only-of-type {\n",
       "        vertical-align: middle;\n",
       "    }\n",
       "\n",
       "    .dataframe tbody tr th {\n",
       "        vertical-align: top;\n",
       "    }\n",
       "\n",
       "    .dataframe thead th {\n",
       "        text-align: right;\n",
       "    }\n",
       "</style>\n",
       "<table border=\"1\" class=\"dataframe\">\n",
       "  <thead>\n",
       "    <tr style=\"text-align: right;\">\n",
       "      <th></th>\n",
       "      <th>Estimator</th>\n",
       "      <th>Best Params</th>\n",
       "      <th>Training Accuracy</th>\n",
       "      <th>Test Accuracy</th>\n",
       "      <th>Precision</th>\n",
       "      <th>Recall</th>\n",
       "      <th>f1</th>\n",
       "      <th>AUC</th>\n",
       "      <th>Feature Importance</th>\n",
       "    </tr>\n",
       "  </thead>\n",
       "  <tbody>\n",
       "    <tr>\n",
       "      <th>0</th>\n",
       "      <td>Logistic Regression</td>\n",
       "      <td>{'clf__C': 1.0, 'clf__penalty': 'l1', 'clf__so...</td>\n",
       "      <td>0.942419</td>\n",
       "      <td>0.941816</td>\n",
       "      <td>0.940117</td>\n",
       "      <td>0.941816</td>\n",
       "      <td>0.938603</td>\n",
       "      <td>0.838668</td>\n",
       "      <td>[-1.878446256660003, 2.5689070343959157, -0.65...</td>\n",
       "    </tr>\n",
       "    <tr>\n",
       "      <th>1</th>\n",
       "      <td>Random Forest</td>\n",
       "      <td>{'clf__criterion': 'gini', 'clf__n_estimators'...</td>\n",
       "      <td>0.950388</td>\n",
       "      <td>0.949990</td>\n",
       "      <td>0.948531</td>\n",
       "      <td>0.949990</td>\n",
       "      <td>0.948189</td>\n",
       "      <td>0.869622</td>\n",
       "      <td>[0.1276332514407495, 0.17274735951823475, 0.10...</td>\n",
       "    </tr>\n",
       "    <tr>\n",
       "      <th>2</th>\n",
       "      <td>XGBoost</td>\n",
       "      <td>{'clf__learning_rate': 0.3, 'clf__n_estimators...</td>\n",
       "      <td>0.950243</td>\n",
       "      <td>0.949755</td>\n",
       "      <td>0.948469</td>\n",
       "      <td>0.949755</td>\n",
       "      <td>0.947569</td>\n",
       "      <td>0.863160</td>\n",
       "      <td>[0.0066501587, 0.06590123, 0.010798372, 0.8659...</td>\n",
       "    </tr>\n",
       "  </tbody>\n",
       "</table>\n",
       "</div>"
      ],
      "text/plain": [
       "             Estimator                                        Best Params  \\\n",
       "0  Logistic Regression  {'clf__C': 1.0, 'clf__penalty': 'l1', 'clf__so...   \n",
       "1        Random Forest  {'clf__criterion': 'gini', 'clf__n_estimators'...   \n",
       "2              XGBoost  {'clf__learning_rate': 0.3, 'clf__n_estimators...   \n",
       "\n",
       "   Training Accuracy  Test Accuracy  Precision    Recall        f1       AUC  \\\n",
       "0           0.942419       0.941816   0.940117  0.941816  0.938603  0.838668   \n",
       "1           0.950388       0.949990   0.948531  0.949990  0.948189  0.869622   \n",
       "2           0.950243       0.949755   0.948469  0.949755  0.947569  0.863160   \n",
       "\n",
       "                                  Feature Importance  \n",
       "0  [-1.878446256660003, 2.5689070343959157, -0.65...  \n",
       "1  [0.1276332514407495, 0.17274735951823475, 0.10...  \n",
       "2  [0.0066501587, 0.06590123, 0.010798372, 0.8659...  "
      ]
     },
     "execution_count": 117,
     "metadata": {},
     "output_type": "execute_result"
    }
   ],
   "source": [
    "#results from the pipeline run on data excluding state information\n",
    "df_resA"
   ]
  },
  {
   "cell_type": "code",
   "execution_count": 118,
   "id": "21f8b5ef",
   "metadata": {},
   "outputs": [
    {
     "data": {
      "image/png": "[encoded data removed]",
      "text/plain": [
       "<Figure size 432x288 with 1 Axes>"
      ]
     },
     "metadata": {
      "needs_background": "light"
     },
     "output_type": "display_data"
    },
    {
     "data": {
      "image/png": "[encoded data removed]",
      "text/plain": [
       "<Figure size 432x288 with 1 Axes>"
      ]
     },
     "metadata": {
      "needs_background": "light"
     },
     "output_type": "display_data"
    },
    {
     "data": {
      "image/png": "[encoded data removed]",
      "text/plain": [
       "<Figure size 432x288 with 1 Axes>"
      ]
     },
     "metadata": {
      "needs_background": "light"
     },
     "output_type": "display_data"
    }
   ],
   "source": [
    "#plotting the feature importance from different classifiers\n",
    "for score in df_resA['Feature Importance']:\n",
    "    cols=datamA.columns\n",
    "    # plot feature importance\n",
    "    plt.figure()\n",
    "    plt.bar([x for x in cols[~cols.isin(['target'])]], score)\n",
    "    plt.xticks(rotation='vertical')\n",
    "    plt.show()\n",
    "    "
   ]
  },
  {
   "cell_type": "code",
   "execution_count": 43,
   "id": "0f18800d",
   "metadata": {},
   "outputs": [],
   "source": [
    "#Observations from feature importance plots\n",
    "#Logistic\n",
    "    #number_of_news_subs - increase in the variable by 1 increase the odds ratio by ~18k\n",
    "    #gender_female- being female increases the odds ratio by 7x\n",
    "    #presence of children decreases odds ratio by 0.15x\n",
    "    #presence of streaming_entertainment_subs increases odds ratio by 13x\n",
    "\n",
    "#RandomForest\n",
    "    # number_of_news_subs accounts for 44% of propensity to 'Listening to podcasts' \n",
    "    # 'streaming_entertainment_subs' accounts for 17% of propensity to 'Listening to podcasts'\n",
    "    # 'presence_of_child_ind' accounts for 12% of propensity to 'Listening to podcasts'\n",
    "    # 'income' accounts for 11% of propensity to 'Listening to podcasts'\n",
    "\n",
    "#XGBoost\n",
    "    # number_of_news_subs accounts for 86% of propensity to 'Listening to podcasts' \n",
    "    # 'streaming_entertainment_subs' accounts for 7% of propensity to 'Listening to podcasts'\n",
    "    # 'presence_of_child_ind' accounts for <1% of propensity to 'Listening to podcasts' \n",
    "   \n",
    "    "
   ]
  },
  {
   "cell_type": "code",
   "execution_count": 119,
   "id": "fe771602",
   "metadata": {},
   "outputs": [
    {
     "name": "stdout",
     "output_type": "stream",
     "text": [
      "Performing model optimizations...\n",
      "0\n",
      "Elapsed time:  0:04:24.639165\n",
      "1\n",
      "Elapsed time:  0:07:48.956082\n",
      "2\n",
      "[16:45:44] WARNING: C:/Users/Administrator/workspace/xgboost-win64_release_1.4.0/src/learner.cc:1095: Starting in XGBoost 1.3.0, the default evaluation metric used with the objective 'binary:logistic' was changed from 'error' to 'logloss'. Explicitly set eval_metric if you'd like to restore the old behavior.\n",
      "Elapsed time:  0:06:54.246335\n",
      "\n",
      "Classifier with best test set accuracy: Random Forest\n"
     ]
    }
   ],
   "source": [
    "# building ML models on data excluding state data and 'number of new subs' data.\n",
    "# understanding the relationships between target and 'features excluding number_of_news_subs'\n",
    "#as probability(target==1/number_of_news_subs>1)=1\n",
    "datamB=datam.drop(columns=['number_of_news_subs','state_GA','state_CA','state_DC','gender_Male'])\n",
    "datamB=datamB.apply(pd.to_numeric)\n",
    "df_resB,best_accB,best_gsB,best_clfB=run_model(datamB,\"datamb\")"
   ]
  },
  {
   "cell_type": "code",
   "execution_count": 120,
   "id": "e9cc310d",
   "metadata": {},
   "outputs": [
    {
     "data": {
      "text/html": [
       "<div>\n",
       "<style scoped>\n",
       "    .dataframe tbody tr th:only-of-type {\n",
       "        vertical-align: middle;\n",
       "    }\n",
       "\n",
       "    .dataframe tbody tr th {\n",
       "        vertical-align: top;\n",
       "    }\n",
       "\n",
       "    .dataframe thead th {\n",
       "        text-align: right;\n",
       "    }\n",
       "</style>\n",
       "<table border=\"1\" class=\"dataframe\">\n",
       "  <thead>\n",
       "    <tr style=\"text-align: right;\">\n",
       "      <th></th>\n",
       "      <th>Estimator</th>\n",
       "      <th>Best Params</th>\n",
       "      <th>Training Accuracy</th>\n",
       "      <th>Test Accuracy</th>\n",
       "      <th>Precision</th>\n",
       "      <th>Recall</th>\n",
       "      <th>f1</th>\n",
       "      <th>AUC</th>\n",
       "      <th>Feature Importance</th>\n",
       "    </tr>\n",
       "  </thead>\n",
       "  <tbody>\n",
       "    <tr>\n",
       "      <th>0</th>\n",
       "      <td>Logistic Regression</td>\n",
       "      <td>{'clf__C': 1.0, 'clf__penalty': 'l1', 'clf__so...</td>\n",
       "      <td>0.914085</td>\n",
       "      <td>0.913457</td>\n",
       "      <td>0.909541</td>\n",
       "      <td>0.913457</td>\n",
       "      <td>0.910841</td>\n",
       "      <td>0.802952</td>\n",
       "      <td>[1.1718192503163005, 2.5667346501224313, -0.58...</td>\n",
       "    </tr>\n",
       "    <tr>\n",
       "      <th>1</th>\n",
       "      <td>Random Forest</td>\n",
       "      <td>{'clf__criterion': 'gini', 'clf__n_estimators'...</td>\n",
       "      <td>0.933222</td>\n",
       "      <td>0.932341</td>\n",
       "      <td>0.929561</td>\n",
       "      <td>0.932341</td>\n",
       "      <td>0.930104</td>\n",
       "      <td>0.837527</td>\n",
       "      <td>[0.3102724359135193, 0.24725734179047384, 0.15...</td>\n",
       "    </tr>\n",
       "    <tr>\n",
       "      <th>2</th>\n",
       "      <td>XGBoost</td>\n",
       "      <td>{'clf__learning_rate': 0.3, 'clf__n_estimators...</td>\n",
       "      <td>0.933182</td>\n",
       "      <td>0.932331</td>\n",
       "      <td>0.929551</td>\n",
       "      <td>0.932331</td>\n",
       "      <td>0.930095</td>\n",
       "      <td>0.837521</td>\n",
       "      <td>[0.6692864, 0.16475548, 0.035556052, 0.039699,...</td>\n",
       "    </tr>\n",
       "  </tbody>\n",
       "</table>\n",
       "</div>"
      ],
      "text/plain": [
       "             Estimator                                        Best Params  \\\n",
       "0  Logistic Regression  {'clf__C': 1.0, 'clf__penalty': 'l1', 'clf__so...   \n",
       "1        Random Forest  {'clf__criterion': 'gini', 'clf__n_estimators'...   \n",
       "2              XGBoost  {'clf__learning_rate': 0.3, 'clf__n_estimators...   \n",
       "\n",
       "   Training Accuracy  Test Accuracy  Precision    Recall        f1       AUC  \\\n",
       "0           0.914085       0.913457   0.909541  0.913457  0.910841  0.802952   \n",
       "1           0.933222       0.932341   0.929561  0.932341  0.930104  0.837527   \n",
       "2           0.933182       0.932331   0.929551  0.932331  0.930095  0.837521   \n",
       "\n",
       "                                  Feature Importance  \n",
       "0  [1.1718192503163005, 2.5667346501224313, -0.58...  \n",
       "1  [0.3102724359135193, 0.24725734179047384, 0.15...  \n",
       "2  [0.6692864, 0.16475548, 0.035556052, 0.039699,...  "
      ]
     },
     "execution_count": 120,
     "metadata": {},
     "output_type": "execute_result"
    }
   ],
   "source": [
    "df_resB"
   ]
  },
  {
   "cell_type": "code",
   "execution_count": 121,
   "id": "b6b8ae32",
   "metadata": {},
   "outputs": [
    {
     "data": {
      "image/png": "[encoded data removed]",
      "text/plain": [
       "<Figure size 432x288 with 1 Axes>"
      ]
     },
     "metadata": {
      "needs_background": "light"
     },
     "output_type": "display_data"
    },
    {
     "data": {
      "image/png": "[encoded data removed]",
      "text/plain": [
       "<Figure size 432x288 with 1 Axes>"
      ]
     },
     "metadata": {
      "needs_background": "light"
     },
     "output_type": "display_data"
    },
    {
     "data": {
      "image/png": "[encoded data removed]",
      "text/plain": [
       "<Figure size 432x288 with 1 Axes>"
      ]
     },
     "metadata": {
      "needs_background": "light"
     },
     "output_type": "display_data"
    }
   ],
   "source": [
    "#plotting the feature importance from different classifiers\n",
    "for score in df_resB['Feature Importance']:\n",
    "    cols=datamB.columns\n",
    "    # plot feature importance\n",
    "    plt.figure()\n",
    "    plt.bar([x for x in cols[~cols.isin(['target'])]], score)\n",
    "    plt.xticks(rotation='vertical')\n",
    "    plt.show()"
   ]
  },
  {
   "cell_type": "code",
   "execution_count": 122,
   "id": "5c7f0a9d",
   "metadata": {},
   "outputs": [],
   "source": [
    "#Obsertvations from feature importance plots assuming 'number_of_news_subs ' is not available\n",
    "#Logistic\n",
    "    #streaming_entertainment_subs - increase in the variable by 1 increase the odds ratio by 2.57x\n",
    "    #gender_female- being female increases the odds ratio by 1.96x\n",
    "    #presence of children increases odds ratio by 1.17\n",
    " \n",
    "#RandomForest\n",
    "    # presence_of_child_ind accounts for 31% of propensity to 'Listening to podcasts' \n",
    "    # 'streaming_entertainment_subs' accounts for 25% of propensity to 'Listening to podcasts'\n",
    "    # 'age' accounts for 17% of propensity to 'Listening to podcasts'\n",
    "    # 'income' accounts for 11% of propensity to 'Listening to podcasts'\n",
    "\n",
    "#XGBoost\n",
    "    # presence_of_child_ind accounts for 67% of propensity to 'Listening to podcasts' \n",
    "    # 'streaming_entertainment_subs' accounts for 16% of propensity to 'Listening to podcasts'\n",
    "    # gender_Female accounts for 9% of propensity to 'Listening to podcasts'\n",
    "   "
   ]
  },
  {
   "cell_type": "markdown",
   "id": "f017c4ce",
   "metadata": {},
   "source": [
    "# Final Output Building"
   ]
  },
  {
   "cell_type": "code",
   "execution_count": 123,
   "id": "a0789136",
   "metadata": {},
   "outputs": [
    {
     "data": {
      "text/plain": [
       "{'clf__criterion': 'gini', 'clf__n_estimators': 20}"
      ]
     },
     "execution_count": 123,
     "metadata": {},
     "output_type": "execute_result"
    }
   ],
   "source": [
    "#Checking the params for the best model from ML section\n",
    "df_resA['Best Params'][1]"
   ]
  },
  {
   "cell_type": "code",
   "execution_count": 124,
   "id": "614bd41c",
   "metadata": {},
   "outputs": [],
   "source": [
    "def cross_val(model):\n",
    "    pred = cross_val_score(model, X, y, cv=10)\n",
    "    return pred.mean()"
   ]
  },
  {
   "cell_type": "code",
   "execution_count": 125,
   "id": "e6f88e34",
   "metadata": {},
   "outputs": [],
   "source": [
    "X=datamA.loc[:,datamA.columns!='target']\n",
    "y= datamA['target']\n",
    "# split data\n",
    "train_data,test_data = train_test_split(datamA,train_size=0.8,random_state=0)\n",
    "# select the columns and \n",
    "# prepare data for the models \n",
    "X_train = train_data.loc[:,train_data.columns!='target']\n",
    "y_train = train_data['target']\n",
    "X_test = test_data.loc[:,test_data.columns!='target']\n",
    "y_test = test_data['target']"
   ]
  },
  {
   "cell_type": "code",
   "execution_count": 126,
   "id": "57079d8d",
   "metadata": {},
   "outputs": [
    {
     "name": "stdout",
     "output_type": "stream",
     "text": [
      "Elapsed time:  0:02:17.972373\n"
     ]
    }
   ],
   "source": [
    "#Re-running the best model on the data\n",
    "from sklearn.ensemble import RandomForestClassifier\n",
    "from sklearn.model_selection import cross_val_score\n",
    "from sklearn.metrics import roc_curve, auc\n",
    "start=dt.datetime.now()\n",
    "rf = RandomForestClassifier(n_estimators=20, random_state=42,criterion='gini')\n",
    "rf.fit(X_train,y_train)\n",
    "rf_accuracy=rf.score(X_test,y_test)\n",
    "test_pred = rf.predict(X_test)\n",
    "train_pred = rf.predict(X_train)\n",
    "score5 = cross_val(rf)\n",
    "print('Elapsed time: ',str(dt.datetime.now()-start))"
   ]
  },
  {
   "cell_type": "code",
   "execution_count": 127,
   "id": "7fc25670",
   "metadata": {},
   "outputs": [],
   "source": [
    "pred_rf = rf.predict_proba(X_test)[:,1]\n",
    "fpr_rf,tpr_rf,_ = roc_curve(y_test.values,pred_rf)\n",
    "roc_auc_rf = auc(fpr_rf,tpr_rf)\n"
   ]
  },
  {
   "cell_type": "code",
   "execution_count": 128,
   "id": "f43a1ea6",
   "metadata": {},
   "outputs": [
    {
     "data": {
      "text/html": [
       "<div>\n",
       "<style scoped>\n",
       "    .dataframe tbody tr th:only-of-type {\n",
       "        vertical-align: middle;\n",
       "    }\n",
       "\n",
       "    .dataframe tbody tr th {\n",
       "        vertical-align: top;\n",
       "    }\n",
       "\n",
       "    .dataframe thead th {\n",
       "        text-align: right;\n",
       "    }\n",
       "</style>\n",
       "<table border=\"1\" class=\"dataframe\">\n",
       "  <thead>\n",
       "    <tr style=\"text-align: right;\">\n",
       "      <th></th>\n",
       "      <th>Model</th>\n",
       "      <th>Accuracy</th>\n",
       "      <th>AUC</th>\n",
       "      <th>Cross Validation</th>\n",
       "    </tr>\n",
       "  </thead>\n",
       "  <tbody>\n",
       "    <tr>\n",
       "      <th>0</th>\n",
       "      <td>Random Forest</td>\n",
       "      <td>0.94999</td>\n",
       "      <td>0.970641</td>\n",
       "      <td>0.950285</td>\n",
       "    </tr>\n",
       "  </tbody>\n",
       "</table>\n",
       "</div>"
      ],
      "text/plain": [
       "           Model  Accuracy       AUC  Cross Validation\n",
       "0  Random Forest   0.94999  0.970641          0.950285"
      ]
     },
     "execution_count": 128,
     "metadata": {},
     "output_type": "execute_result"
    }
   ],
   "source": [
    "results_df = pd.DataFrame(data=[[\"Random Forest\",  rf_accuracy , roc_auc_rf, score5]], \n",
    "                            columns=['Model','Accuracy', 'AUC', \"Cross Validation\"])\n",
    "\n",
    "results_df"
   ]
  },
  {
   "cell_type": "code",
   "execution_count": 129,
   "id": "f3c5bf21",
   "metadata": {},
   "outputs": [],
   "source": [
    "#Function for drawing the confusion matrix map\n",
    "import itertools\n",
    "def plot_confusion_matrix(cm, classes,\n",
    "                          normalize=False,\n",
    "                          title='Confusion matrix',\n",
    "                          cmap=plt.cm.Blues):\n",
    "    \"\"\"\n",
    "    This function prints and plots the confusion matrix.\n",
    "    Normalization can be applied by setting `normalize=True`.\n",
    "    \"\"\"\n",
    "    plt.imshow(cm, interpolation='nearest', cmap=cmap)\n",
    "    plt.title(title)\n",
    "    plt.colorbar()\n",
    "    tick_marks = np.arange(len(classes))\n",
    "    plt.xticks(tick_marks, classes, rotation=45)\n",
    "    plt.yticks(tick_marks, classes)\n",
    "\n",
    "    if normalize:\n",
    "        cm = cm.astype('float') / cm.sum(axis=1)[:, np.newaxis]\n",
    "        print(\"Normalized confusion matrix\")\n",
    "    else:\n",
    "        print('Confusion matrix, without normalization')\n",
    "\n",
    "    print(cm)\n",
    "\n",
    "    thresh = cm.max() / 2.\n",
    "    for i, j in itertools.product(range(cm.shape[0]), range(cm.shape[1])):\n",
    "        plt.text(j, i, round(cm[i, j],2),\n",
    "                 horizontalalignment=\"center\",\n",
    "                 color=\"white\" if cm[i, j] > thresh else \"black\")\n",
    "\n",
    "    plt.tight_layout()\n",
    "    plt.ylabel('True label')\n",
    "    plt.xlabel('Predicted label')"
   ]
  },
  {
   "cell_type": "code",
   "execution_count": 130,
   "id": "f168f570",
   "metadata": {},
   "outputs": [
    {
     "name": "stdout",
     "output_type": "stream",
     "text": [
      "Confusion matrix, without normalization\n",
      "[[836901  12933]\n",
      " [ 36712 112954]]\n",
      "Normalized confusion matrix\n",
      "[[0.98 0.02]\n",
      " [0.25 0.75]]\n"
     ]
    },
    {
     "data": {
      "image/png": "[encoded data removed]",
      "text/plain": [
       "<Figure size 432x288 with 2 Axes>"
      ]
     },
     "metadata": {
      "needs_background": "light"
     },
     "output_type": "display_data"
    },
    {
     "data": {
      "image/png": "[encoded data removed]",
      "text/plain": [
       "<Figure size 432x288 with 2 Axes>"
      ]
     },
     "metadata": {
      "needs_background": "light"
     },
     "output_type": "display_data"
    }
   ],
   "source": [
    "#Predicting the values using the model\n",
    "class_names=[0,1]\n",
    "y_pred=rf.predict(X)\n",
    "y_pred_prob=rf.predict_proba(X)\n",
    "# Compute confusion matrix\n",
    "cnf_matrix = confusion_matrix(y, y_pred)\n",
    "np.set_printoptions(precision=2)\n",
    "\n",
    "# Plot non-normalized confusion matrix\n",
    "plt.figure()\n",
    "plot_confusion_matrix(cnf_matrix, classes=class_names,\n",
    "                      title='Confusion matrix, without normalization')\n",
    "\n",
    "# Plot normalized confusion matrix\n",
    "plt.figure()\n",
    "plot_confusion_matrix(cnf_matrix, classes=class_names, normalize=True,\n",
    "                      title='Normalized confusion matrix')\n",
    "\n",
    "plt.show()"
   ]
  },
  {
   "cell_type": "code",
   "execution_count": 131,
   "id": "89cf413c",
   "metadata": {},
   "outputs": [],
   "source": [
    "X['Prediction']=y_pred\n",
    "X['Probability']=y_pred_prob[:,1]\n"
   ]
  },
  {
   "cell_type": "code",
   "execution_count": null,
   "id": "c668299d",
   "metadata": {},
   "outputs": [],
   "source": [
    "datatemp=data.join(X[['Prediction','Probability']])"
   ]
  },
  {
   "cell_type": "code",
   "execution_count": null,
   "id": "c7a40a08",
   "metadata": {},
   "outputs": [],
   "source": [
    "#writing final output to CSV file\n",
    "datatemp[['anon_person_id','target','Prediction','Probability']].to_csv('Scores.csv', index=False)\n",
    "           "
   ]
  },
  {
   "cell_type": "code",
   "execution_count": null,
   "id": "87676a2e",
   "metadata": {},
   "outputs": [],
   "source": []
  },
  {
   "cell_type": "code",
   "execution_count": null,
   "id": "fe36bcc1",
   "metadata": {},
   "outputs": [],
   "source": []
  },
  {
   "cell_type": "markdown",
   "id": "4fab2847",
   "metadata": {},
   "source": [
    "# Some additional analysis for the business"
   ]
  },
  {
   "cell_type": "code",
   "execution_count": 153,
   "id": "398d0c2f",
   "metadata": {},
   "outputs": [],
   "source": [
    "agg_func_math = {\n",
    "    'target':\n",
    "    ['count', 'mean']\n",
    "}"
   ]
  },
  {
   "cell_type": "code",
   "execution_count": 170,
   "id": "81ed29d3",
   "metadata": {},
   "outputs": [],
   "source": [
    "datamA1=datamA.copy()"
   ]
  },
  {
   "cell_type": "code",
   "execution_count": 160,
   "id": "7489382e",
   "metadata": {},
   "outputs": [],
   "source": [
    "datamA1['New_Sub']=datamA1['number_of_news_subs'].apply(lambda x:0 if x==0 else 1)"
   ]
  },
  {
   "cell_type": "code",
   "execution_count": 171,
   "id": "ddbb0830",
   "metadata": {},
   "outputs": [],
   "source": [
    "datamA1['age_n']=datamA1['age'].apply(lambda x:1 if 4<=x<=6 else 0)"
   ]
  },
  {
   "cell_type": "code",
   "execution_count": 172,
   "id": "2157aa8c",
   "metadata": {},
   "outputs": [],
   "source": [
    "datamA1['income_n']=datamA1['income'].apply(lambda x:1 if x<=6 else 0)"
   ]
  },
  {
   "cell_type": "code",
   "execution_count": 176,
   "id": "740385a1",
   "metadata": {},
   "outputs": [
    {
     "data": {
      "text/html": [
       "<div>\n",
       "<style scoped>\n",
       "    .dataframe tbody tr th:only-of-type {\n",
       "        vertical-align: middle;\n",
       "    }\n",
       "\n",
       "    .dataframe tbody tr th {\n",
       "        vertical-align: top;\n",
       "    }\n",
       "\n",
       "    .dataframe thead tr th {\n",
       "        text-align: left;\n",
       "    }\n",
       "</style>\n",
       "<table border=\"1\" class=\"dataframe\">\n",
       "  <thead>\n",
       "    <tr>\n",
       "      <th></th>\n",
       "      <th>presence_of_child_ind</th>\n",
       "      <th>streaming_entertainment_subs</th>\n",
       "      <th>New_Sub</th>\n",
       "      <th colspan=\"2\" halign=\"left\">target</th>\n",
       "    </tr>\n",
       "    <tr>\n",
       "      <th></th>\n",
       "      <th></th>\n",
       "      <th></th>\n",
       "      <th></th>\n",
       "      <th>count</th>\n",
       "      <th>mean</th>\n",
       "    </tr>\n",
       "  </thead>\n",
       "  <tbody>\n",
       "    <tr>\n",
       "      <th>0</th>\n",
       "      <td>0</td>\n",
       "      <td>0</td>\n",
       "      <td>0</td>\n",
       "      <td>737328</td>\n",
       "      <td>0.035621</td>\n",
       "    </tr>\n",
       "    <tr>\n",
       "      <th>1</th>\n",
       "      <td>0</td>\n",
       "      <td>1</td>\n",
       "      <td>0</td>\n",
       "      <td>117555</td>\n",
       "      <td>0.325448</td>\n",
       "    </tr>\n",
       "    <tr>\n",
       "      <th>2</th>\n",
       "      <td>1</td>\n",
       "      <td>0</td>\n",
       "      <td>0</td>\n",
       "      <td>55596</td>\n",
       "      <td>0.037539</td>\n",
       "    </tr>\n",
       "    <tr>\n",
       "      <th>3</th>\n",
       "      <td>1</td>\n",
       "      <td>0</td>\n",
       "      <td>1</td>\n",
       "      <td>32967</td>\n",
       "      <td>1.000000</td>\n",
       "    </tr>\n",
       "    <tr>\n",
       "      <th>4</th>\n",
       "      <td>1</td>\n",
       "      <td>1</td>\n",
       "      <td>0</td>\n",
       "      <td>8833</td>\n",
       "      <td>0.324805</td>\n",
       "    </tr>\n",
       "    <tr>\n",
       "      <th>5</th>\n",
       "      <td>1</td>\n",
       "      <td>1</td>\n",
       "      <td>1</td>\n",
       "      <td>47221</td>\n",
       "      <td>1.000000</td>\n",
       "    </tr>\n",
       "  </tbody>\n",
       "</table>\n",
       "</div>"
      ],
      "text/plain": [
       "  presence_of_child_ind streaming_entertainment_subs New_Sub  target          \n",
       "                                                               count      mean\n",
       "0                     0                            0       0  737328  0.035621\n",
       "1                     0                            1       0  117555  0.325448\n",
       "2                     1                            0       0   55596  0.037539\n",
       "3                     1                            0       1   32967  1.000000\n",
       "4                     1                            1       0    8833  0.324805\n",
       "5                     1                            1       1   47221  1.000000"
      ]
     },
     "execution_count": 176,
     "metadata": {},
     "output_type": "execute_result"
    }
   ],
   "source": [
    "datamA1.groupby(['presence_of_child_ind',\n",
    "        'streaming_entertainment_subs','New_Sub']).agg(agg_func_math).reset_index()"
   ]
  },
  {
   "cell_type": "code",
   "execution_count": 177,
   "id": "d7d41a53",
   "metadata": {},
   "outputs": [
    {
     "data": {
      "text/html": [
       "<div>\n",
       "<style scoped>\n",
       "    .dataframe tbody tr th:only-of-type {\n",
       "        vertical-align: middle;\n",
       "    }\n",
       "\n",
       "    .dataframe tbody tr th {\n",
       "        vertical-align: top;\n",
       "    }\n",
       "\n",
       "    .dataframe thead tr th {\n",
       "        text-align: left;\n",
       "    }\n",
       "</style>\n",
       "<table border=\"1\" class=\"dataframe\">\n",
       "  <thead>\n",
       "    <tr>\n",
       "      <th></th>\n",
       "      <th>age_n</th>\n",
       "      <th>income_n</th>\n",
       "      <th>gender_Female</th>\n",
       "      <th colspan=\"2\" halign=\"left\">target</th>\n",
       "    </tr>\n",
       "    <tr>\n",
       "      <th></th>\n",
       "      <th></th>\n",
       "      <th></th>\n",
       "      <th></th>\n",
       "      <th>count</th>\n",
       "      <th>mean</th>\n",
       "    </tr>\n",
       "  </thead>\n",
       "  <tbody>\n",
       "    <tr>\n",
       "      <th>0</th>\n",
       "      <td>0</td>\n",
       "      <td>0</td>\n",
       "      <td>0</td>\n",
       "      <td>216340</td>\n",
       "      <td>0.006115</td>\n",
       "    </tr>\n",
       "    <tr>\n",
       "      <th>1</th>\n",
       "      <td>0</td>\n",
       "      <td>0</td>\n",
       "      <td>1</td>\n",
       "      <td>126151</td>\n",
       "      <td>0.042465</td>\n",
       "    </tr>\n",
       "    <tr>\n",
       "      <th>2</th>\n",
       "      <td>0</td>\n",
       "      <td>1</td>\n",
       "      <td>0</td>\n",
       "      <td>60796</td>\n",
       "      <td>0.058343</td>\n",
       "    </tr>\n",
       "    <tr>\n",
       "      <th>3</th>\n",
       "      <td>0</td>\n",
       "      <td>1</td>\n",
       "      <td>1</td>\n",
       "      <td>46081</td>\n",
       "      <td>0.296955</td>\n",
       "    </tr>\n",
       "    <tr>\n",
       "      <th>4</th>\n",
       "      <td>1</td>\n",
       "      <td>0</td>\n",
       "      <td>0</td>\n",
       "      <td>221986</td>\n",
       "      <td>0.031646</td>\n",
       "    </tr>\n",
       "    <tr>\n",
       "      <th>5</th>\n",
       "      <td>1</td>\n",
       "      <td>0</td>\n",
       "      <td>1</td>\n",
       "      <td>148137</td>\n",
       "      <td>0.186679</td>\n",
       "    </tr>\n",
       "    <tr>\n",
       "      <th>6</th>\n",
       "      <td>1</td>\n",
       "      <td>1</td>\n",
       "      <td>0</td>\n",
       "      <td>75206</td>\n",
       "      <td>0.243398</td>\n",
       "    </tr>\n",
       "    <tr>\n",
       "      <th>7</th>\n",
       "      <td>1</td>\n",
       "      <td>1</td>\n",
       "      <td>1</td>\n",
       "      <td>104803</td>\n",
       "      <td>0.694360</td>\n",
       "    </tr>\n",
       "  </tbody>\n",
       "</table>\n",
       "</div>"
      ],
      "text/plain": [
       "  age_n income_n gender_Female  target          \n",
       "                                 count      mean\n",
       "0     0        0             0  216340  0.006115\n",
       "1     0        0             1  126151  0.042465\n",
       "2     0        1             0   60796  0.058343\n",
       "3     0        1             1   46081  0.296955\n",
       "4     1        0             0  221986  0.031646\n",
       "5     1        0             1  148137  0.186679\n",
       "6     1        1             0   75206  0.243398\n",
       "7     1        1             1  104803  0.694360"
      ]
     },
     "execution_count": 177,
     "metadata": {},
     "output_type": "execute_result"
    }
   ],
   "source": [
    "datamA1.groupby(['age_n','income_n','gender_Female']).agg(agg_func_math).reset_index()"
   ]
  },
  {
   "cell_type": "code",
   "execution_count": null,
   "id": "8f9b3ddd",
   "metadata": {},
   "outputs": [],
   "source": []
  },
  {
   "cell_type": "code",
   "execution_count": null,
   "id": "e40bc8fa",
   "metadata": {},
   "outputs": [],
   "source": []
  },
  {
   "cell_type": "code",
   "execution_count": null,
   "id": "e0d32a50",
   "metadata": {},
   "outputs": [],
   "source": []
  },
  {
   "cell_type": "code",
   "execution_count": null,
   "id": "da868e41",
   "metadata": {},
   "outputs": [],
   "source": []
  },
  {
   "cell_type": "code",
   "execution_count": null,
   "id": "6e35a972",
   "metadata": {},
   "outputs": [],
   "source": []
  }
 ],
 "metadata": {
  "kernelspec": {
   "display_name": "Python 3",
   "language": "python",
   "name": "python3"
  },
  "language_info": {
   "codemirror_mode": {
    "name": "ipython",
    "version": 3
   },
   "file_extension": ".py",
   "mimetype": "text/x-python",
   "name": "python",
   "nbconvert_exporter": "python",
   "pygments_lexer": "ipython3",
   "version": "3.8.8"
  }
 },
 "nbformat": 4,
 "nbformat_minor": 5
}
